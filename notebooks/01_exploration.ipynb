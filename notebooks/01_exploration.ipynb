{
 "cells": [
  {
   "cell_type": "code",
   "execution_count": null,
   "id": "c2016491",
   "metadata": {},
   "outputs": [],
   "source": [
    "import pandas as pd\n",
    "import matplotlib.pyplot as plt\n",
    "import seaborn as sns\n",
    "\n",
    "# Load dataset\n",
    "df = pd.read_csv(\"../data/raw/power_data.csv\")\n",
    "\n",
    "# Peek at data\n",
    "print(df.shape)\n",
    "print(df.head())\n",
    "\n",
    "# Check missing values\n",
    "print(df.isna().sum())\n",
    "\n",
    "# Class distribution\n",
    "print(df['failure'].value_counts())\n",
    "\n",
    "# Plot class balance\n",
    "sns.countplot(x='failure', data=df)\n",
    "plt.show()\n"
   ]
  }
 ],
 "metadata": {
  "kernelspec": {
   "display_name": ".venv",
   "language": "python",
   "name": "python3"
  },
  "language_info": {
   "name": "python",
   "version": "3.13.5"
  }
 },
 "nbformat": 4,
 "nbformat_minor": 5
}
